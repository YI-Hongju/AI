{
 "cells": [
  {
   "cell_type": "code",
   "execution_count": 7,
   "metadata": {},
   "outputs": [],
   "source": [
    "import torch\n",
    "import torch.nn as nn\n",
    "\n",
    "from matplotlib import pyplot as plt"
   ]
  },
  {
   "cell_type": "code",
   "execution_count": 8,
   "metadata": {},
   "outputs": [
    {
     "data": {
      "text/plain": [
       "tensor([-28.5192, -25.0436, -22.2174, -21.7132, -21.1000, -16.5713, -15.9857,\n",
       "        -15.6382, -15.6330, -14.8107, -14.0303, -13.1185, -12.3485, -11.4278,\n",
       "        -10.8867, -10.5171,  -9.9968,  -9.9589,  -9.8035,  -9.6259,  -9.5197,\n",
       "         -8.1412,  -8.0386,  -6.1447,  -5.4045,  -5.2164,  -5.1498,  -5.1304,\n",
       "         -4.6540,  -3.6982,  -3.3908,  -3.3510,  -2.9872,  -2.9675,  -2.6735,\n",
       "         -2.3162,  -2.1433,  -2.0874,  -2.0635,  -1.9837,  -1.8686,  -1.8463,\n",
       "         -1.4016,  -1.1261,  -0.8072,  -0.4067,  -0.1543,  -0.0347,   0.3806,\n",
       "          0.4532,   0.5406,   0.6754,   0.8427,   1.1022,   1.2337,   1.2711,\n",
       "          1.5098,   1.5161,   1.8509,   2.0227,   2.4544,   2.6084,   2.8170,\n",
       "          2.9270,   3.5705,   3.8028,   3.8344,   4.2507,   4.2612,   4.3461,\n",
       "          4.5654,   4.7473,   5.0145,   5.0996,   5.3985,   5.4936,   6.0763,\n",
       "          6.3936,   6.6798,   6.8364,   7.0721,   7.7300,   8.2389,   8.7029,\n",
       "          8.7959,   9.0426,   9.1724,   9.4602,   9.9521,  10.0004,  12.8430,\n",
       "         12.8802,  15.0499,  15.2651,  17.6844,  20.7090,  21.8218,  23.4920,\n",
       "         26.3800,  28.0748])"
      ]
     },
     "execution_count": 8,
     "metadata": {},
     "output_type": "execute_result"
    }
   ],
   "source": [
    "x = torch.sort(torch.randn(100) * 10)[0]\n",
    "x"
   ]
  },
  {
   "cell_type": "markdown",
   "metadata": {},
   "source": [
    "# Sigmoid"
   ]
  },
  {
   "cell_type": "code",
   "execution_count": 9,
   "metadata": {},
   "outputs": [
    {
     "data": {
      "text/plain": [
       "tensor([4.1142e-13, 1.3296e-11, 2.2445e-10, 3.7160e-10, 6.8609e-10, 6.3561e-08,\n",
       "        1.1416e-07, 1.6159e-07, 1.6243e-07, 3.6965e-07, 8.0674e-07, 2.0077e-06,\n",
       "        4.3363e-06, 1.0889e-05, 1.8705e-05, 2.7068e-05, 4.5543e-05, 4.7300e-05,\n",
       "        5.5257e-05, 6.5992e-05, 7.3387e-05, 2.9120e-04, 3.2267e-04, 2.1402e-03,\n",
       "        4.4764e-03, 5.3975e-03, 5.7671e-03, 5.8792e-03, 9.4337e-03, 2.4170e-02,\n",
       "        3.2585e-02, 3.3863e-02, 4.8009e-02, 4.8915e-02, 6.4552e-02, 8.9786e-02,\n",
       "        1.0496e-01, 1.1032e-01, 1.1270e-01, 1.2093e-01, 1.3370e-01, 1.3630e-01,\n",
       "        1.9756e-01, 2.4488e-01, 3.0850e-01, 3.9970e-01, 4.6151e-01, 4.9133e-01,\n",
       "        5.9402e-01, 6.1141e-01, 6.3195e-01, 6.6271e-01, 6.9904e-01, 7.5067e-01,\n",
       "        7.7447e-01, 7.8093e-01, 8.1904e-01, 8.1996e-01, 8.6423e-01, 8.8316e-01,\n",
       "        9.2088e-01, 9.3140e-01, 9.4359e-01, 9.4916e-01, 9.7263e-01, 9.7818e-01,\n",
       "        9.7884e-01, 9.8595e-01, 9.8609e-01, 9.8721e-01, 9.8970e-01, 9.9140e-01,\n",
       "        9.9340e-01, 9.9394e-01, 9.9550e-01, 9.9590e-01, 9.9771e-01, 9.9833e-01,\n",
       "        9.9875e-01, 9.9893e-01, 9.9915e-01, 9.9956e-01, 9.9974e-01, 9.9983e-01,\n",
       "        9.9985e-01, 9.9988e-01, 9.9990e-01, 9.9992e-01, 9.9995e-01, 9.9995e-01,\n",
       "        1.0000e+00, 1.0000e+00, 1.0000e+00, 1.0000e+00, 1.0000e+00, 1.0000e+00,\n",
       "        1.0000e+00, 1.0000e+00, 1.0000e+00, 1.0000e+00])"
      ]
     },
     "execution_count": 9,
     "metadata": {},
     "output_type": "execute_result"
    }
   ],
   "source": [
    "act = nn.Sigmoid()\n",
    "act(x)"
   ]
  },
  {
   "cell_type": "code",
   "execution_count": 10,
   "metadata": {},
   "outputs": [
    {
     "data": {
      "text/plain": [
       "tensor([4.1142e-13, 1.3296e-11, 2.2445e-10, 3.7160e-10, 6.8609e-10, 6.3561e-08,\n",
       "        1.1416e-07, 1.6159e-07, 1.6243e-07, 3.6965e-07, 8.0674e-07, 2.0077e-06,\n",
       "        4.3363e-06, 1.0889e-05, 1.8705e-05, 2.7068e-05, 4.5543e-05, 4.7300e-05,\n",
       "        5.5257e-05, 6.5992e-05, 7.3387e-05, 2.9120e-04, 3.2267e-04, 2.1402e-03,\n",
       "        4.4764e-03, 5.3975e-03, 5.7671e-03, 5.8792e-03, 9.4337e-03, 2.4170e-02,\n",
       "        3.2585e-02, 3.3863e-02, 4.8009e-02, 4.8915e-02, 6.4552e-02, 8.9786e-02,\n",
       "        1.0496e-01, 1.1032e-01, 1.1270e-01, 1.2093e-01, 1.3370e-01, 1.3630e-01,\n",
       "        1.9756e-01, 2.4488e-01, 3.0850e-01, 3.9970e-01, 4.6151e-01, 4.9133e-01,\n",
       "        5.9402e-01, 6.1141e-01, 6.3195e-01, 6.6271e-01, 6.9904e-01, 7.5067e-01,\n",
       "        7.7447e-01, 7.8093e-01, 8.1904e-01, 8.1996e-01, 8.6423e-01, 8.8316e-01,\n",
       "        9.2088e-01, 9.3140e-01, 9.4359e-01, 9.4916e-01, 9.7263e-01, 9.7818e-01,\n",
       "        9.7884e-01, 9.8595e-01, 9.8609e-01, 9.8721e-01, 9.8970e-01, 9.9140e-01,\n",
       "        9.9340e-01, 9.9394e-01, 9.9550e-01, 9.9590e-01, 9.9771e-01, 9.9833e-01,\n",
       "        9.9875e-01, 9.9893e-01, 9.9915e-01, 9.9956e-01, 9.9974e-01, 9.9983e-01,\n",
       "        9.9985e-01, 9.9988e-01, 9.9990e-01, 9.9992e-01, 9.9995e-01, 9.9995e-01,\n",
       "        1.0000e+00, 1.0000e+00, 1.0000e+00, 1.0000e+00, 1.0000e+00, 1.0000e+00,\n",
       "        1.0000e+00, 1.0000e+00, 1.0000e+00, 1.0000e+00])"
      ]
     },
     "execution_count": 10,
     "metadata": {},
     "output_type": "execute_result"
    }
   ],
   "source": [
    "torch.sigmoid(x)"
   ]
  },
  {
   "cell_type": "code",
   "execution_count": null,
   "metadata": {},
   "outputs": [],
   "source": []
  },
  {
   "cell_type": "code",
   "execution_count": 11,
   "metadata": {},
   "outputs": [
    {
     "data": {
      "image/png": "[encoded data removed]",
      "text/plain": [
       "<Figure size 432x288 with 1 Axes>"
      ]
     },
     "metadata": {
      "needs_background": "light"
     },
     "output_type": "display_data"
    }
   ],
   "source": [
    "plt.plot(x.numpy(), torch.sigmoid(x).numpy())\n",
    "plt.show()"
   ]
  },
  {
   "cell_type": "markdown",
   "metadata": {},
   "source": [
    "# TanH"
   ]
  },
  {
   "cell_type": "code",
   "execution_count": 12,
   "metadata": {},
   "outputs": [
    {
     "data": {
      "text/plain": [
       "tensor([-1.0000, -1.0000, -1.0000, -1.0000, -1.0000, -1.0000, -1.0000, -1.0000,\n",
       "        -1.0000, -1.0000, -1.0000, -1.0000, -1.0000, -1.0000, -1.0000, -1.0000,\n",
       "        -1.0000, -1.0000, -1.0000, -1.0000, -1.0000, -1.0000, -1.0000, -1.0000,\n",
       "        -1.0000, -0.9999, -0.9999, -0.9999, -0.9998, -0.9988, -0.9977, -0.9975,\n",
       "        -0.9949, -0.9947, -0.9905, -0.9807, -0.9729, -0.9697, -0.9682, -0.9629,\n",
       "        -0.9535, -0.9514, -0.8857, -0.8097, -0.6680, -0.3857, -0.1531, -0.0347,\n",
       "         0.3632,  0.4246,  0.4934,  0.5885,  0.6873,  0.8013,  0.8437,  0.8541,\n",
       "         0.9069,  0.9080,  0.9518,  0.9656,  0.9853,  0.9892,  0.9929,  0.9943,\n",
       "         0.9984,  0.9990,  0.9991,  0.9996,  0.9996,  0.9997,  0.9998,  0.9998,\n",
       "         0.9999,  0.9999,  1.0000,  1.0000,  1.0000,  1.0000,  1.0000,  1.0000,\n",
       "         1.0000,  1.0000,  1.0000,  1.0000,  1.0000,  1.0000,  1.0000,  1.0000,\n",
       "         1.0000,  1.0000,  1.0000,  1.0000,  1.0000,  1.0000,  1.0000,  1.0000,\n",
       "         1.0000,  1.0000,  1.0000,  1.0000])"
      ]
     },
     "execution_count": 12,
     "metadata": {},
     "output_type": "execute_result"
    }
   ],
   "source": [
    "act = nn.Tanh()\n",
    "act(x)"
   ]
  },
  {
   "cell_type": "code",
   "execution_count": 13,
   "metadata": {},
   "outputs": [
    {
     "data": {
      "text/plain": [
       "tensor([-1.0000, -1.0000, -1.0000, -1.0000, -1.0000, -1.0000, -1.0000, -1.0000,\n",
       "        -1.0000, -1.0000, -1.0000, -1.0000, -1.0000, -1.0000, -1.0000, -1.0000,\n",
       "        -1.0000, -1.0000, -1.0000, -1.0000, -1.0000, -1.0000, -1.0000, -1.0000,\n",
       "        -1.0000, -0.9999, -0.9999, -0.9999, -0.9998, -0.9988, -0.9977, -0.9975,\n",
       "        -0.9949, -0.9947, -0.9905, -0.9807, -0.9729, -0.9697, -0.9682, -0.9629,\n",
       "        -0.9535, -0.9514, -0.8857, -0.8097, -0.6680, -0.3857, -0.1531, -0.0347,\n",
       "         0.3632,  0.4246,  0.4934,  0.5885,  0.6873,  0.8013,  0.8437,  0.8541,\n",
       "         0.9069,  0.9080,  0.9518,  0.9656,  0.9853,  0.9892,  0.9929,  0.9943,\n",
       "         0.9984,  0.9990,  0.9991,  0.9996,  0.9996,  0.9997,  0.9998,  0.9998,\n",
       "         0.9999,  0.9999,  1.0000,  1.0000,  1.0000,  1.0000,  1.0000,  1.0000,\n",
       "         1.0000,  1.0000,  1.0000,  1.0000,  1.0000,  1.0000,  1.0000,  1.0000,\n",
       "         1.0000,  1.0000,  1.0000,  1.0000,  1.0000,  1.0000,  1.0000,  1.0000,\n",
       "         1.0000,  1.0000,  1.0000,  1.0000])"
      ]
     },
     "execution_count": 13,
     "metadata": {},
     "output_type": "execute_result"
    }
   ],
   "source": [
    "torch.tanh(x)"
   ]
  },
  {
   "cell_type": "code",
   "execution_count": 15,
   "metadata": {},
   "outputs": [
    {
     "data": {
      "image/png": "[encoded data removed]",
      "text/plain": [
       "<Figure size 432x288 with 1 Axes>"
      ]
     },
     "metadata": {
      "needs_background": "light"
     },
     "output_type": "display_data"
    }
   ],
   "source": [
    "plt.plot(x.numpy(), torch.tanh(x))\n",
    "plt.show()"
   ]
  },
  {
   "cell_type": "code",
   "execution_count": null,
   "metadata": {},
   "outputs": [],
   "source": []
  }
 ],
 "metadata": {
  "kernelspec": {
   "display_name": "Python 3.9.13 ('main')",
   "language": "python",
   "name": "python3"
  },
  "language_info": {
   "codemirror_mode": {
    "name": "ipython",
    "version": 3
   },
   "file_extension": ".py",
   "mimetype": "text/x-python",
   "name": "python",
   "nbconvert_exporter": "python",
   "pygments_lexer": "ipython3",
   "version": "3.9.13"
  },
  "orig_nbformat": 4,
  "vscode": {
   "interpreter": {
    "hash": "c7fa6e65c4f227d77882d4bcc641a942485d93f6372413baaff8defdf53a058c"
   }
  }
 },
 "nbformat": 4,
 "nbformat_minor": 2
}
