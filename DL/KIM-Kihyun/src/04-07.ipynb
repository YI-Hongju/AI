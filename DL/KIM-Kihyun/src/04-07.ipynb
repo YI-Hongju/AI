{
 "cells": [
  {
   "cell_type": "code",
   "execution_count": 1,
   "metadata": {},
   "outputs": [
    {
     "name": "stderr",
     "output_type": "stream",
     "text": [
      "/opt/homebrew/Caskroom/miniforge/base/envs/main/lib/python3.9/site-packages/tqdm/auto.py:22: TqdmWarning: IProgress not found. Please update jupyter and ipywidgets. See https://ipywidgets.readthedocs.io/en/stable/user_install.html\n",
      "  from .autonotebook import tqdm as notebook_tqdm\n"
     ]
    }
   ],
   "source": [
    "import torch"
   ]
  },
  {
   "cell_type": "markdown",
   "metadata": {},
   "source": [
    "# Reshaping"
   ]
  },
  {
   "cell_type": "code",
   "execution_count": 2,
   "metadata": {},
   "outputs": [
    {
     "name": "stdout",
     "output_type": "stream",
     "text": [
      "tensor([[[ 1.,  2.],\n",
      "         [ 3.,  4.]],\n",
      "\n",
      "        [[ 1.,  2.],\n",
      "         [ 3.,  4.]],\n",
      "\n",
      "        [[ 1.,  2.],\n",
      "         [11., 12.]]]) torch.Size([3, 2, 2])\n"
     ]
    }
   ],
   "source": [
    "x = torch.FloatTensor([\n",
    "    [\n",
    "        [1, 2],\n",
    "        [3, 4],\n",
    "    ],\n",
    "    [\n",
    "        [1, 2],\n",
    "        [3, 4],\n",
    "    ],\n",
    "    [\n",
    "        [1, 2],\n",
    "        [11, 12],\n",
    "    ]\n",
    "])\n",
    "\n",
    "f = lambda x: print(x, x.size())\n",
    "\n",
    "f(x)"
   ]
  },
  {
   "cell_type": "code",
   "execution_count": 3,
   "metadata": {},
   "outputs": [
    {
     "name": "stdout",
     "output_type": "stream",
     "text": [
      "tensor([ 1.,  2.,  3.,  4.,  1.,  2.,  3.,  4.,  1.,  2., 11., 12.]) torch.Size([12])\n"
     ]
    }
   ],
   "source": [
    "f(x.reshape(12))"
   ]
  },
  {
   "cell_type": "code",
   "execution_count": 6,
   "metadata": {},
   "outputs": [
    {
     "name": "stdout",
     "output_type": "stream",
     "text": [
      "tensor([[ 1.,  2.,  3.,  4.],\n",
      "        [ 1.,  2.,  3.,  4.],\n",
      "        [ 1.,  2., 11., 12.]]) torch.Size([3, 4])\n",
      "tensor([[ 1.,  2.,  3.,  4.],\n",
      "        [ 1.,  2.,  3.,  4.],\n",
      "        [ 1.,  2., 11., 12.]]) torch.Size([3, 4])\n"
     ]
    }
   ],
   "source": [
    "f(x.reshape(3, 4)) # (3, 4)\n",
    "f(x.reshape(3, -1)) # (3, 4)"
   ]
  },
  {
   "cell_type": "code",
   "execution_count": 7,
   "metadata": {},
   "outputs": [
    {
     "name": "stdout",
     "output_type": "stream",
     "text": [
      "tensor([[[ 1.,  2.,  3.,  4.]],\n",
      "\n",
      "        [[ 1.,  2.,  3.,  4.]],\n",
      "\n",
      "        [[ 1.,  2., 11., 12.]]]) torch.Size([3, 1, 4])\n",
      "tensor([[[ 1.,  2.,  3.,  4.]],\n",
      "\n",
      "        [[ 1.,  2.,  3.,  4.]],\n",
      "\n",
      "        [[ 1.,  2., 11., 12.]]]) torch.Size([3, 1, 4])\n"
     ]
    }
   ],
   "source": [
    "f(x.reshape(3, 1, 4))\n",
    "f(x.reshape(-1, 1, 4))"
   ]
  },
  {
   "cell_type": "code",
   "execution_count": 8,
   "metadata": {},
   "outputs": [
    {
     "name": "stdout",
     "output_type": "stream",
     "text": [
      "tensor([[[[ 1.],\n",
      "          [ 2.]],\n",
      "\n",
      "         [[ 3.],\n",
      "          [ 4.]]],\n",
      "\n",
      "\n",
      "        [[[ 1.],\n",
      "          [ 2.]],\n",
      "\n",
      "         [[ 3.],\n",
      "          [ 4.]]],\n",
      "\n",
      "\n",
      "        [[[ 1.],\n",
      "          [ 2.]],\n",
      "\n",
      "         [[11.],\n",
      "          [12.]]]]) torch.Size([3, 2, 2, 1])\n",
      "tensor([[[[ 1.,  2.,  3.,  4.]]],\n",
      "\n",
      "\n",
      "        [[[ 1.,  2.,  3.,  4.]]],\n",
      "\n",
      "\n",
      "        [[[ 1.,  2., 11., 12.]]]]) torch.Size([3, 1, 1, 4])\n"
     ]
    }
   ],
   "source": [
    "f(x.reshape(3, 2, 2, 1))\n",
    "f(x.reshape(3, 1, 1, 4))"
   ]
  },
  {
   "cell_type": "code",
   "execution_count": 9,
   "metadata": {},
   "outputs": [
    {
     "name": "stdout",
     "output_type": "stream",
     "text": [
      "tensor([[[[ 1.],\n",
      "          [ 2.]],\n",
      "\n",
      "         [[ 3.],\n",
      "          [ 4.]]],\n",
      "\n",
      "\n",
      "        [[[ 1.],\n",
      "          [ 2.]],\n",
      "\n",
      "         [[ 3.],\n",
      "          [ 4.]]],\n",
      "\n",
      "\n",
      "        [[[ 1.],\n",
      "          [ 2.]],\n",
      "\n",
      "         [[11.],\n",
      "          [12.]]]]) torch.Size([3, 2, 2, 1])\n"
     ]
    }
   ],
   "source": [
    "# view() + contiguos(?) == reshape()\n",
    "\n",
    "f(x.view(3, 2, 2, 1))"
   ]
  },
  {
   "cell_type": "markdown",
   "metadata": {},
   "source": [
    "## Squeezing"
   ]
  },
  {
   "cell_type": "code",
   "execution_count": 11,
   "metadata": {},
   "outputs": [
    {
     "name": "stdout",
     "output_type": "stream",
     "text": [
      "tensor([[[1., 2.],\n",
      "         [1., 2.]]]) torch.Size([1, 2, 2])\n"
     ]
    }
   ],
   "source": [
    "x = torch.FloatTensor([\n",
    "    [\n",
    "        [1, 2],\n",
    "        [1, 2],\n",
    "    ]\n",
    "])\n",
    "f(x)"
   ]
  },
  {
   "cell_type": "code",
   "execution_count": 12,
   "metadata": {},
   "outputs": [
    {
     "name": "stdout",
     "output_type": "stream",
     "text": [
      "tensor([[1., 2.],\n",
      "        [1., 2.]]) torch.Size([2, 2])\n"
     ]
    }
   ],
   "source": [
    "f(x.squeeze())"
   ]
  },
  {
   "cell_type": "code",
   "execution_count": 14,
   "metadata": {},
   "outputs": [
    {
     "name": "stdout",
     "output_type": "stream",
     "text": [
      "tensor([[1., 2.],\n",
      "        [1., 2.]]) torch.Size([2, 2])\n",
      "tensor([[[1., 2.],\n",
      "         [1., 2.]]]) torch.Size([1, 2, 2])\n"
     ]
    }
   ],
   "source": [
    "f(x.squeeze(dim=0))\n",
    "f(x.squeeze(1))"
   ]
  },
  {
   "cell_type": "markdown",
   "metadata": {},
   "source": [
    "## Unsqueezing"
   ]
  },
  {
   "cell_type": "code",
   "execution_count": 23,
   "metadata": {},
   "outputs": [
    {
     "name": "stdout",
     "output_type": "stream",
     "text": [
      "tensor([[1., 2.],\n",
      "        [1., 2.]]) torch.Size([2, 2])\n"
     ]
    }
   ],
   "source": [
    "x = torch.FloatTensor([\n",
    "    [1, 2],\n",
    "    [1, 2],\n",
    "])\n",
    "f(x)"
   ]
  },
  {
   "cell_type": "code",
   "execution_count": 25,
   "metadata": {},
   "outputs": [
    {
     "name": "stdout",
     "output_type": "stream",
     "text": [
      "tensor([[[1.],\n",
      "         [2.]],\n",
      "\n",
      "        [[1.],\n",
      "         [2.]]]) torch.Size([2, 2, 1])\n",
      "tensor([[[1.],\n",
      "         [2.]],\n",
      "\n",
      "        [[1.],\n",
      "         [2.]]]) torch.Size([2, 2, 1])\n",
      "tensor([[[1.],\n",
      "         [2.]],\n",
      "\n",
      "        [[1.],\n",
      "         [2.]]]) torch.Size([2, 2, 1])\n"
     ]
    }
   ],
   "source": [
    "f(x.unsqueeze(dim=2))\n",
    "f(x.unsqueeze(-1))\n",
    "f(x.reshape(2, 2, -1))"
   ]
  },
  {
   "cell_type": "code",
   "execution_count": null,
   "metadata": {},
   "outputs": [],
   "source": []
  }
 ],
 "metadata": {
  "kernelspec": {
   "display_name": "Python 3.9.13 ('main')",
   "language": "python",
   "name": "python3"
  },
  "language_info": {
   "codemirror_mode": {
    "name": "ipython",
    "version": 3
   },
   "file_extension": ".py",
   "mimetype": "text/x-python",
   "name": "python",
   "nbconvert_exporter": "python",
   "pygments_lexer": "ipython3",
   "version": "3.9.13"
  },
  "orig_nbformat": 4,
  "vscode": {
   "interpreter": {
    "hash": "c7fa6e65c4f227d77882d4bcc641a942485d93f6372413baaff8defdf53a058c"
   }
  }
 },
 "nbformat": 4,
 "nbformat_minor": 2
}
