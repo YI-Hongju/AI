{
 "cells": [
  {
   "cell_type": "code",
   "execution_count": 13,
   "metadata": {},
   "outputs": [],
   "source": [
    "import torch"
   ]
  },
  {
   "cell_type": "markdown",
   "metadata": {},
   "source": [
    "# Slicing and Concatenation"
   ]
  },
  {
   "cell_type": "markdown",
   "metadata": {},
   "source": [
    "## Accessing"
   ]
  },
  {
   "cell_type": "code",
   "execution_count": 14,
   "metadata": {},
   "outputs": [
    {
     "name": "stdout",
     "output_type": "stream",
     "text": [
      "tensor([[[ 1.,  2.],\n",
      "         [ 3.,  4.]],\n",
      "\n",
      "        [[ 5.,  6.],\n",
      "         [ 7.,  8.]],\n",
      "\n",
      "        [[ 9., 10.],\n",
      "         [11., 12.]]]) torch.Size([3, 2, 2])\n"
     ]
    }
   ],
   "source": [
    "x = torch.FloatTensor([\n",
    "    [\n",
    "        [1, 2],\n",
    "        [3, 4],\n",
    "    ],\n",
    "    [\n",
    "        [5, 6],\n",
    "        [7, 8],\n",
    "    ],\n",
    "    [\n",
    "        [9, 10],\n",
    "        [11, 12],\n",
    "    ],\n",
    "])\n",
    "\n",
    "f = lambda x: print(x, x.size())\n",
    "\n",
    "f(x)"
   ]
  },
  {
   "cell_type": "code",
   "execution_count": 15,
   "metadata": {},
   "outputs": [
    {
     "name": "stdout",
     "output_type": "stream",
     "text": [
      "tensor([[1., 2.],\n",
      "        [3., 4.]]) torch.Size([2, 2])\n",
      "tensor([[1., 2.],\n",
      "        [3., 4.]]) torch.Size([2, 2])\n",
      "tensor([[1., 2.],\n",
      "        [3., 4.]]) torch.Size([2, 2])\n"
     ]
    }
   ],
   "source": [
    "# Same works\n",
    "\n",
    "f(x[0])\n",
    "f(x[0, :])\n",
    "f(x[0, :, :])"
   ]
  },
  {
   "cell_type": "code",
   "execution_count": 16,
   "metadata": {},
   "outputs": [
    {
     "name": "stdout",
     "output_type": "stream",
     "text": [
      "tensor([[ 9., 10.],\n",
      "        [11., 12.]]) torch.Size([2, 2])\n",
      "tensor([[ 9., 10.],\n",
      "        [11., 12.]]) torch.Size([2, 2])\n",
      "tensor([[ 9., 10.],\n",
      "        [11., 12.]]) torch.Size([2, 2])\n"
     ]
    }
   ],
   "source": [
    "f(x[-1])\n",
    "f(x[-1, :])\n",
    "f(x[-1, :, :])"
   ]
  },
  {
   "cell_type": "code",
   "execution_count": 17,
   "metadata": {},
   "outputs": [
    {
     "name": "stdout",
     "output_type": "stream",
     "text": [
      "tensor([[ 1.,  2.],\n",
      "        [ 5.,  6.],\n",
      "        [ 9., 10.]]) torch.Size([3, 2])\n"
     ]
    }
   ],
   "source": [
    "f(x[:, 0])"
   ]
  },
  {
   "cell_type": "code",
   "execution_count": 19,
   "metadata": {},
   "outputs": [
    {
     "name": "stdout",
     "output_type": "stream",
     "text": [
      "tensor([[[ 5.,  6.],\n",
      "         [ 7.,  8.]],\n",
      "\n",
      "        [[ 9., 10.],\n",
      "         [11., 12.]]]) torch.Size([2, 2, 2])\n",
      "tensor([[[ 1.,  2.]],\n",
      "\n",
      "        [[ 5.,  6.]],\n",
      "\n",
      "        [[ 9., 10.]]]) torch.Size([3, 1, 2])\n",
      "tensor([[[ 1.,  2.]],\n",
      "\n",
      "        [[ 5.,  6.]],\n",
      "\n",
      "        [[ 9., 10.]]]) torch.Size([3, 1, 2])\n"
     ]
    }
   ],
   "source": [
    "f(x[1:3, :, :])\n",
    "f(x[:, :1, :])\n",
    "f(x[:, :-1, :])"
   ]
  },
  {
   "cell_type": "markdown",
   "metadata": {},
   "source": [
    "## Split"
   ]
  },
  {
   "cell_type": "code",
   "execution_count": 20,
   "metadata": {},
   "outputs": [
    {
     "name": "stdout",
     "output_type": "stream",
     "text": [
      "tensor([[ 3.6367e-38,  1.4013e-45, -5.4010e+20,  7.0600e+17],\n",
      "        [ 1.3210e-36,  1.4013e-45,  1.3370e-36,  1.4013e-45],\n",
      "        [ 0.0000e+00, -0.0000e+00,  1.7025e-27,  1.5846e+29],\n",
      "        [ 6.5240e-37,  1.4013e-45,  6.5366e-37,  1.4013e-45],\n",
      "        [ 6.5373e-37,  1.4013e-45,  6.5368e-37,  1.4013e-45],\n",
      "        [ 6.5373e-37,  1.4013e-45,  6.5387e-37,  1.4013e-45],\n",
      "        [ 6.5285e-37,  1.4013e-45,  6.5388e-37,  1.4013e-45],\n",
      "        [ 6.5376e-37,  1.4013e-45,  6.5389e-37,  1.4013e-45],\n",
      "        [ 6.5377e-37,  1.4013e-45,  6.5390e-37,  1.4013e-45],\n",
      "        [ 6.5377e-37,  1.4013e-45,  6.5321e-37,  1.4013e-45]]) torch.Size([10, 4])\n"
     ]
    }
   ],
   "source": [
    "x = torch.FloatTensor(10, 4)\n",
    "f(x)"
   ]
  },
  {
   "cell_type": "code",
   "execution_count": 25,
   "metadata": {},
   "outputs": [
    {
     "name": "stdout",
     "output_type": "stream",
     "text": [
      "tensor([[ 3.6367e-38,  1.4013e-45, -5.4010e+20,  7.0600e+17],\n",
      "        [ 1.3210e-36,  1.4013e-45,  1.3370e-36,  1.4013e-45],\n",
      "        [ 0.0000e+00, -0.0000e+00,  1.7025e-27,  1.5846e+29],\n",
      "        [ 6.5240e-37,  1.4013e-45,  6.5366e-37,  1.4013e-45]]) torch.Size([4, 4])\n",
      "tensor([[6.5373e-37, 1.4013e-45, 6.5368e-37, 1.4013e-45],\n",
      "        [6.5373e-37, 1.4013e-45, 6.5387e-37, 1.4013e-45],\n",
      "        [6.5285e-37, 1.4013e-45, 6.5388e-37, 1.4013e-45],\n",
      "        [6.5376e-37, 1.4013e-45, 6.5389e-37, 1.4013e-45]]) torch.Size([4, 4])\n",
      "tensor([[6.5377e-37, 1.4013e-45, 6.5390e-37, 1.4013e-45],\n",
      "        [6.5377e-37, 1.4013e-45, 6.5321e-37, 1.4013e-45]]) torch.Size([2, 4])\n"
     ]
    }
   ],
   "source": [
    "splits = x.split(4, dim=0)\n",
    "\n",
    "for s in splits:\n",
    "    f(s)"
   ]
  },
  {
   "cell_type": "markdown",
   "metadata": {},
   "source": [
    "## Chunk"
   ]
  },
  {
   "cell_type": "code",
   "execution_count": 26,
   "metadata": {},
   "outputs": [
    {
     "name": "stdout",
     "output_type": "stream",
     "text": [
      "tensor([[0.0000e+00, 5.6221e-05, 0.0000e+00, 4.7684e-06],\n",
      "        [0.0000e+00, 5.6220e-05, 0.0000e+00, 4.7684e-06],\n",
      "        [0.0000e+00, 5.6221e-05, 0.0000e+00, 4.7684e-06],\n",
      "        [0.0000e+00, 5.6222e-05, 0.0000e+00, 4.7684e-06],\n",
      "        [0.0000e+00, 5.6212e-05, 0.0000e+00, 4.7684e-06],\n",
      "        [0.0000e+00, 5.6222e-05, 0.0000e+00, 4.7684e-06],\n",
      "        [0.0000e+00, 5.6221e-05, 0.0000e+00, 4.7684e-06],\n",
      "        [0.0000e+00, 5.6222e-05, 0.0000e+00, 4.7684e-06]]) torch.Size([8, 4])\n"
     ]
    }
   ],
   "source": [
    "x = torch.FloatTensor(8, 4)\n",
    "f(x)"
   ]
  },
  {
   "cell_type": "code",
   "execution_count": 28,
   "metadata": {},
   "outputs": [
    {
     "name": "stdout",
     "output_type": "stream",
     "text": [
      "tensor([[0.0000e+00, 5.6221e-05, 0.0000e+00, 4.7684e-06],\n",
      "        [0.0000e+00, 5.6220e-05, 0.0000e+00, 4.7684e-06],\n",
      "        [0.0000e+00, 5.6221e-05, 0.0000e+00, 4.7684e-06]]) torch.Size([3, 4])\n",
      "tensor([[0.0000e+00, 5.6222e-05, 0.0000e+00, 4.7684e-06],\n",
      "        [0.0000e+00, 5.6212e-05, 0.0000e+00, 4.7684e-06],\n",
      "        [0.0000e+00, 5.6222e-05, 0.0000e+00, 4.7684e-06]]) torch.Size([3, 4])\n",
      "tensor([[0.0000e+00, 5.6221e-05, 0.0000e+00, 4.7684e-06],\n",
      "        [0.0000e+00, 5.6222e-05, 0.0000e+00, 4.7684e-06]]) torch.Size([2, 4])\n"
     ]
    }
   ],
   "source": [
    "chunks = x.chunk(3, dim=0)\n",
    "\n",
    "for c in chunks:\n",
    "    f(c)"
   ]
  },
  {
   "cell_type": "markdown",
   "metadata": {},
   "source": [
    "## Index selection"
   ]
  },
  {
   "cell_type": "code",
   "execution_count": 29,
   "metadata": {},
   "outputs": [
    {
     "name": "stdout",
     "output_type": "stream",
     "text": [
      "tensor([[[ 1.,  2.],\n",
      "         [ 3.,  4.]],\n",
      "\n",
      "        [[ 5.,  6.],\n",
      "         [ 7.,  8.]],\n",
      "\n",
      "        [[ 9., 10.],\n",
      "         [11., 12.]]]) torch.Size([3, 2, 2])\n"
     ]
    }
   ],
   "source": [
    "x = torch.FloatTensor([\n",
    "    [\n",
    "        [1, 2],\n",
    "        [3, 4],\n",
    "    ],\n",
    "    [\n",
    "        [5, 6],\n",
    "        [7, 8],\n",
    "    ],\n",
    "    [\n",
    "        [9, 10],\n",
    "        [11, 12],\n",
    "    ]\n",
    "])\n",
    "\n",
    "f(x)"
   ]
  },
  {
   "cell_type": "code",
   "execution_count": 30,
   "metadata": {},
   "outputs": [
    {
     "name": "stdout",
     "output_type": "stream",
     "text": [
      "tensor([2, 1]) torch.Size([2])\n"
     ]
    }
   ],
   "source": [
    "indice = torch.LongTensor([2, 1])\n",
    "f(indice)"
   ]
  },
  {
   "cell_type": "code",
   "execution_count": 32,
   "metadata": {},
   "outputs": [
    {
     "name": "stdout",
     "output_type": "stream",
     "text": [
      "tensor([[[ 9., 10.],\n",
      "         [11., 12.]],\n",
      "\n",
      "        [[ 5.,  6.],\n",
      "         [ 7.,  8.]]]) torch.Size([2, 2, 2])\n"
     ]
    }
   ],
   "source": [
    "y = x.index_select(0, indice)\n",
    "f(y)"
   ]
  },
  {
   "cell_type": "markdown",
   "metadata": {},
   "source": [
    "## Concatenation"
   ]
  },
  {
   "cell_type": "code",
   "execution_count": 34,
   "metadata": {},
   "outputs": [
    {
     "name": "stdout",
     "output_type": "stream",
     "text": [
      "tensor([[1., 2., 3.],\n",
      "        [4., 5., 6.],\n",
      "        [7., 8., 9.]]) torch.Size([3, 3])\n",
      "tensor([[11., 12., 13.],\n",
      "        [14., 15., 16.],\n",
      "        [17., 18., 19.]]) torch.Size([3, 3])\n"
     ]
    }
   ],
   "source": [
    "x = torch.FloatTensor([\n",
    "    [1, 2, 3],\n",
    "    [4, 5, 6],\n",
    "    [7, 8, 9]\n",
    "])\n",
    "y = torch.FloatTensor([\n",
    "    [11, 12, 13],\n",
    "    [14, 15, 16],\n",
    "    [17, 18, 19]\n",
    "])\n",
    "\n",
    "f(x)\n",
    "f(y)"
   ]
  },
  {
   "cell_type": "code",
   "execution_count": 35,
   "metadata": {},
   "outputs": [
    {
     "name": "stdout",
     "output_type": "stream",
     "text": [
      "tensor([[ 1.,  2.,  3.],\n",
      "        [ 4.,  5.,  6.],\n",
      "        [ 7.,  8.,  9.],\n",
      "        [11., 12., 13.],\n",
      "        [14., 15., 16.],\n",
      "        [17., 18., 19.]]) torch.Size([6, 3])\n"
     ]
    }
   ],
   "source": [
    "z = torch.cat([x, y], 0)\n",
    "f(z)"
   ]
  },
  {
   "cell_type": "code",
   "execution_count": 36,
   "metadata": {},
   "outputs": [
    {
     "name": "stdout",
     "output_type": "stream",
     "text": [
      "tensor([[ 1.,  2.,  3., 11., 12., 13.],\n",
      "        [ 4.,  5.,  6., 14., 15., 16.],\n",
      "        [ 7.,  8.,  9., 17., 18., 19.]]) torch.Size([3, 6])\n"
     ]
    }
   ],
   "source": [
    "z = torch.cat([x, y], -1)\n",
    "f(z)"
   ]
  },
  {
   "cell_type": "markdown",
   "metadata": {},
   "source": [
    "## Stack: Increasing of Dimention"
   ]
  },
  {
   "cell_type": "code",
   "execution_count": 38,
   "metadata": {},
   "outputs": [
    {
     "name": "stdout",
     "output_type": "stream",
     "text": [
      "tensor([[[ 1.,  2.,  3.],\n",
      "         [ 4.,  5.,  6.],\n",
      "         [ 7.,  8.,  9.]],\n",
      "\n",
      "        [[11., 12., 13.],\n",
      "         [14., 15., 16.],\n",
      "         [17., 18., 19.]]]) torch.Size([2, 3, 3])\n"
     ]
    }
   ],
   "source": [
    "z = torch.stack([x, y])\n",
    "z = torch.stack([x, y], 0)\n",
    "f(z)"
   ]
  },
  {
   "cell_type": "code",
   "execution_count": 40,
   "metadata": {},
   "outputs": [
    {
     "name": "stdout",
     "output_type": "stream",
     "text": [
      "tensor([[[ 1., 11.],\n",
      "         [ 2., 12.],\n",
      "         [ 3., 13.]],\n",
      "\n",
      "        [[ 4., 14.],\n",
      "         [ 5., 15.],\n",
      "         [ 6., 16.]],\n",
      "\n",
      "        [[ 7., 17.],\n",
      "         [ 8., 18.],\n",
      "         [ 9., 19.]]]) torch.Size([3, 3, 2])\n"
     ]
    }
   ],
   "source": [
    "z = torch.stack([x, y], -1)\n",
    "f(z)"
   ]
  },
  {
   "cell_type": "markdown",
   "metadata": {},
   "source": [
    "### Hard way: Using cat()"
   ]
  },
  {
   "cell_type": "code",
   "execution_count": 44,
   "metadata": {},
   "outputs": [
    {
     "name": "stdout",
     "output_type": "stream",
     "text": [
      "tensor([[[ 1.,  2.,  3.],\n",
      "         [ 4.,  5.,  6.],\n",
      "         [ 7.,  8.,  9.]],\n",
      "\n",
      "        [[11., 12., 13.],\n",
      "         [14., 15., 16.],\n",
      "         [17., 18., 19.]]]) torch.Size([2, 3, 3])\n"
     ]
    }
   ],
   "source": [
    "z = torch.cat([x.unsqueeze(0), y.unsqueeze(0)], 0)\n",
    "f(z)"
   ]
  },
  {
   "cell_type": "markdown",
   "metadata": {},
   "source": [
    "## Useful tricks"
   ]
  },
  {
   "cell_type": "code",
   "execution_count": 47,
   "metadata": {},
   "outputs": [
    {
     "name": "stdout",
     "output_type": "stream",
     "text": [
      "tensor([[[ 0.0000e+00,  4.4766e+00],\n",
      "         [ 1.7009e-27,  1.5846e+29]],\n",
      "\n",
      "        [[ 2.5223e-44,  0.0000e+00],\n",
      "         [ 1.7009e-27,  1.5846e+29]],\n",
      "\n",
      "        [[ 0.0000e+00,  0.0000e+00],\n",
      "         [ 1.7009e-27,  1.5846e+29]],\n",
      "\n",
      "        [[ 0.0000e+00, -0.0000e+00],\n",
      "         [ 1.6990e-27, -8.5899e+09]],\n",
      "\n",
      "        [[        inf,  2.3694e-38],\n",
      "         [ 2.3694e-38,  2.3694e-38]]]) torch.Size([5, 2, 2])\n"
     ]
    }
   ],
   "source": [
    "result = []\n",
    "\n",
    "for i in range(5):\n",
    "    x = torch.FloatTensor(2, 2)\n",
    "    result += [x]\n",
    "\n",
    "result = torch.stack(result)\n",
    "f(result)"
   ]
  },
  {
   "cell_type": "code",
   "execution_count": null,
   "metadata": {},
   "outputs": [],
   "source": []
  }
 ],
 "metadata": {
  "kernelspec": {
   "display_name": "Python 3.9.13 ('main')",
   "language": "python",
   "name": "python3"
  },
  "language_info": {
   "codemirror_mode": {
    "name": "ipython",
    "version": 3
   },
   "file_extension": ".py",
   "mimetype": "text/x-python",
   "name": "python",
   "nbconvert_exporter": "python",
   "pygments_lexer": "ipython3",
   "version": "3.9.13"
  },
  "orig_nbformat": 4,
  "vscode": {
   "interpreter": {
    "hash": "c7fa6e65c4f227d77882d4bcc641a942485d93f6372413baaff8defdf53a058c"
   }
  }
 },
 "nbformat": 4,
 "nbformat_minor": 2
}
