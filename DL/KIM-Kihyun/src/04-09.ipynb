{
 "cells": [
  {
   "cell_type": "markdown",
   "metadata": {},
   "source": [
    "# Useful functions"
   ]
  },
  {
   "cell_type": "code",
   "execution_count": 2,
   "metadata": {},
   "outputs": [
    {
     "name": "stderr",
     "output_type": "stream",
     "text": [
      "/opt/homebrew/Caskroom/miniforge/base/envs/main/lib/python3.9/site-packages/tqdm/auto.py:22: TqdmWarning: IProgress not found. Please update jupyter and ipywidgets. See https://ipywidgets.readthedocs.io/en/stable/user_install.html\n",
      "  from .autonotebook import tqdm as notebook_tqdm\n"
     ]
    }
   ],
   "source": [
    "import torch"
   ]
  },
  {
   "cell_type": "markdown",
   "metadata": {},
   "source": [
    "## Expand"
   ]
  },
  {
   "cell_type": "code",
   "execution_count": 3,
   "metadata": {},
   "outputs": [
    {
     "name": "stdout",
     "output_type": "stream",
     "text": [
      "tensor([[[1., 2.]],\n",
      "\n",
      "        [[3., 4.]]]) torch.Size([2, 1, 2])\n"
     ]
    }
   ],
   "source": [
    "x = torch.FloatTensor([\n",
    "    [\n",
    "        [1, 2],\n",
    "    ],\n",
    "    [\n",
    "        [3, 4],\n",
    "    ],\n",
    "])\n",
    "\n",
    "f = lambda x: print(x, x.size())\n",
    "\n",
    "f(x)"
   ]
  },
  {
   "cell_type": "code",
   "execution_count": 4,
   "metadata": {},
   "outputs": [
    {
     "name": "stdout",
     "output_type": "stream",
     "text": [
      "tensor([[[1., 2.],\n",
      "         [1., 2.],\n",
      "         [1., 2.]],\n",
      "\n",
      "        [[3., 4.],\n",
      "         [3., 4.],\n",
      "         [3., 4.]]]) torch.Size([2, 3, 2])\n"
     ]
    }
   ],
   "source": [
    "y = x.expand(*[2, 3, 2])\n",
    "\n",
    "f(y)"
   ]
  },
  {
   "cell_type": "markdown",
   "metadata": {},
   "source": [
    "### Hard way"
   ]
  },
  {
   "cell_type": "code",
   "execution_count": 5,
   "metadata": {},
   "outputs": [
    {
     "name": "stdout",
     "output_type": "stream",
     "text": [
      "tensor([[[1., 2.],\n",
      "         [1., 2.],\n",
      "         [1., 2.]],\n",
      "\n",
      "        [[3., 4.],\n",
      "         [3., 4.],\n",
      "         [3., 4.]]]) torch.Size([2, 3, 2])\n"
     ]
    }
   ],
   "source": [
    "y = torch.cat([x, x, x], 1)\n",
    "\n",
    "f(y)"
   ]
  },
  {
   "cell_type": "markdown",
   "metadata": {},
   "source": [
    "## Random premutation"
   ]
  },
  {
   "cell_type": "code",
   "execution_count": 6,
   "metadata": {},
   "outputs": [
    {
     "name": "stdout",
     "output_type": "stream",
     "text": [
      "tensor([1, 8, 3, 2, 7, 4, 0, 5, 9, 6]) torch.Size([10])\n"
     ]
    }
   ],
   "source": [
    "x = torch.randperm(10)\n",
    "\n",
    "f(x)"
   ]
  },
  {
   "cell_type": "markdown",
   "metadata": {},
   "source": [
    "## Argument max"
   ]
  },
  {
   "cell_type": "code",
   "execution_count": 7,
   "metadata": {},
   "outputs": [
    {
     "name": "stdout",
     "output_type": "stream",
     "text": [
      "tensor([[[23,  6,  1],\n",
      "         [22, 19,  4],\n",
      "         [18, 17, 11]],\n",
      "\n",
      "        [[13,  9,  2],\n",
      "         [26,  0, 16],\n",
      "         [14, 12,  5]],\n",
      "\n",
      "        [[ 7, 20, 10],\n",
      "         [25, 24, 15],\n",
      "         [ 3,  8, 21]]]) torch.Size([3, 3, 3])\n"
     ]
    }
   ],
   "source": [
    "x = torch.randperm(3 ** 3).reshape(3, 3, -1)\n",
    "\n",
    "f(x)"
   ]
  },
  {
   "cell_type": "code",
   "execution_count": 8,
   "metadata": {},
   "outputs": [
    {
     "name": "stdout",
     "output_type": "stream",
     "text": [
      "tensor([[0, 0, 0],\n",
      "        [0, 0, 0],\n",
      "        [1, 0, 2]]) torch.Size([3, 3])\n"
     ]
    }
   ],
   "source": [
    "y = x.argmax(-1)\n",
    "\n",
    "f(y)"
   ]
  },
  {
   "cell_type": "markdown",
   "metadata": {},
   "source": [
    "## Top-k values and indices"
   ]
  },
  {
   "cell_type": "code",
   "execution_count": 9,
   "metadata": {},
   "outputs": [
    {
     "name": "stdout",
     "output_type": "stream",
     "text": [
      "tensor([[[23],\n",
      "         [22],\n",
      "         [18]],\n",
      "\n",
      "        [[13],\n",
      "         [26],\n",
      "         [14]],\n",
      "\n",
      "        [[20],\n",
      "         [25],\n",
      "         [21]]]) torch.Size([3, 3, 1])\n",
      "tensor([[[0],\n",
      "         [0],\n",
      "         [0]],\n",
      "\n",
      "        [[0],\n",
      "         [0],\n",
      "         [0]],\n",
      "\n",
      "        [[1],\n",
      "         [0],\n",
      "         [2]]]) torch.Size([3, 3, 1])\n"
     ]
    }
   ],
   "source": [
    "values, indices = torch.topk(x, 1, -1)\n",
    "\n",
    "f(values)\n",
    "f(indices)"
   ]
  },
  {
   "cell_type": "code",
   "execution_count": 10,
   "metadata": {},
   "outputs": [
    {
     "name": "stdout",
     "output_type": "stream",
     "text": [
      "tensor([[23, 22, 18],\n",
      "        [13, 26, 14],\n",
      "        [20, 25, 21]]) torch.Size([3, 3])\n",
      "tensor([[0, 0, 0],\n",
      "        [0, 0, 0],\n",
      "        [1, 0, 2]]) torch.Size([3, 3])\n"
     ]
    }
   ],
   "source": [
    "f(values.squeeze(-1))\n",
    "f(indices.squeeze(-1))"
   ]
  },
  {
   "cell_type": "code",
   "execution_count": 11,
   "metadata": {},
   "outputs": [
    {
     "name": "stdout",
     "output_type": "stream",
     "text": [
      "tensor([[[0, 1],\n",
      "         [0, 1],\n",
      "         [0, 1]],\n",
      "\n",
      "        [[0, 1],\n",
      "         [0, 2],\n",
      "         [0, 1]],\n",
      "\n",
      "        [[1, 2],\n",
      "         [0, 1],\n",
      "         [2, 1]]]) torch.Size([3, 3, 2])\n"
     ]
    }
   ],
   "source": [
    "_, indices = x.topk(k=2, dim=-1)\n",
    "\n",
    "f(indices)"
   ]
  },
  {
   "cell_type": "markdown",
   "metadata": {},
   "source": [
    "### Application"
   ]
  },
  {
   "cell_type": "code",
   "execution_count": 12,
   "metadata": {},
   "outputs": [
    {
     "name": "stdout",
     "output_type": "stream",
     "text": [
      "tensor([[[23,  6,  1],\n",
      "         [22, 19,  4],\n",
      "         [18, 17, 11]],\n",
      "\n",
      "        [[13,  9,  2],\n",
      "         [26,  0, 16],\n",
      "         [14, 12,  5]],\n",
      "\n",
      "        [[ 7, 20, 10],\n",
      "         [25, 24, 15],\n",
      "         [ 3,  8, 21]]]) torch.Size([3, 3, 3])\n"
     ]
    }
   ],
   "source": [
    "f(x)"
   ]
  },
  {
   "cell_type": "code",
   "execution_count": 13,
   "metadata": {},
   "outputs": [
    {
     "name": "stdout",
     "output_type": "stream",
     "text": [
      "tensor([[0, 0, 0],\n",
      "        [0, 0, 0],\n",
      "        [1, 0, 2]]) torch.Size([3, 3])\n"
     ]
    }
   ],
   "source": [
    "f(x.argmax(dim=-1))"
   ]
  },
  {
   "cell_type": "code",
   "execution_count": 14,
   "metadata": {},
   "outputs": [
    {
     "name": "stdout",
     "output_type": "stream",
     "text": [
      "tensor([[0, 0, 0],\n",
      "        [0, 0, 0],\n",
      "        [1, 0, 2]]) torch.Size([3, 3])\n"
     ]
    }
   ],
   "source": [
    "f(indices[:, :, 0]) # Demention reduction"
   ]
  },
  {
   "cell_type": "code",
   "execution_count": 15,
   "metadata": {},
   "outputs": [
    {
     "data": {
      "text/plain": [
       "tensor([[True, True, True],\n",
       "        [True, True, True],\n",
       "        [True, True, True]])"
      ]
     },
     "execution_count": 15,
     "metadata": {},
     "output_type": "execute_result"
    }
   ],
   "source": [
    "x.argmax(dim=-1) == indices[:, :, 0]"
   ]
  },
  {
   "cell_type": "markdown",
   "metadata": {},
   "source": [
    "#### Using topk"
   ]
  },
  {
   "cell_type": "code",
   "execution_count": 16,
   "metadata": {},
   "outputs": [
    {
     "data": {
      "text/plain": [
       "tensor([[0, 0, 0],\n",
       "        [0, 0, 0],\n",
       "        [1, 0, 2]])"
      ]
     },
     "execution_count": 16,
     "metadata": {},
     "output_type": "execute_result"
    }
   ],
   "source": [
    "x.argmax(dim=-1)"
   ]
  },
  {
   "cell_type": "code",
   "execution_count": 17,
   "metadata": {},
   "outputs": [
    {
     "name": "stdout",
     "output_type": "stream",
     "text": [
      "tensor([[[0],\n",
      "         [0],\n",
      "         [0]],\n",
      "\n",
      "        [[0],\n",
      "         [0],\n",
      "         [0]],\n",
      "\n",
      "        [[1],\n",
      "         [0],\n",
      "         [2]]]) torch.Size([3, 3, 1])\n"
     ]
    }
   ],
   "source": [
    "_, indices = x.topk(k=1, dim=-1)\n",
    "\n",
    "f(indices)"
   ]
  },
  {
   "cell_type": "code",
   "execution_count": 18,
   "metadata": {},
   "outputs": [
    {
     "data": {
      "text/plain": [
       "tensor([[True, True, True],\n",
       "        [True, True, True],\n",
       "        [True, True, True]])"
      ]
     },
     "execution_count": 18,
     "metadata": {},
     "output_type": "execute_result"
    }
   ],
   "source": [
    "x.argmax(dim=-1) == indices.squeeze(-1)"
   ]
  },
  {
   "cell_type": "markdown",
   "metadata": {},
   "source": [
    "## Sort by topk()"
   ]
  },
  {
   "cell_type": "code",
   "execution_count": 19,
   "metadata": {},
   "outputs": [
    {
     "name": "stdout",
     "output_type": "stream",
     "text": [
      "tensor([[[ 5,  3, 14],\n",
      "         [ 2, 21, 16],\n",
      "         [10, 25, 18]],\n",
      "\n",
      "        [[ 4, 12, 11],\n",
      "         [22,  1,  8],\n",
      "         [ 6,  7, 26]],\n",
      "\n",
      "        [[24, 15,  0],\n",
      "         [ 9, 13, 17],\n",
      "         [20, 23, 19]]]) torch.Size([3, 3, 3])\n"
     ]
    }
   ],
   "source": [
    "x = torch.randperm(3 ** 3).reshape(3, 3, -1)\n",
    "f(x)"
   ]
  },
  {
   "cell_type": "code",
   "execution_count": 20,
   "metadata": {},
   "outputs": [
    {
     "name": "stdout",
     "output_type": "stream",
     "text": [
      "tensor([[[14,  5,  3],\n",
      "         [21, 16,  2],\n",
      "         [25, 18, 10]],\n",
      "\n",
      "        [[12, 11,  4],\n",
      "         [22,  8,  1],\n",
      "         [26,  7,  6]],\n",
      "\n",
      "        [[24, 15,  0],\n",
      "         [17, 13,  9],\n",
      "         [23, 20, 19]]]) torch.Size([3, 3, 3])\n"
     ]
    }
   ],
   "source": [
    "target_dim = -1\n",
    "\n",
    "values, indices = x.topk(k=x.size(target_dim), largest=True)\n",
    "\n",
    "f(values)"
   ]
  },
  {
   "cell_type": "markdown",
   "metadata": {},
   "source": [
    "## Topk by sort()"
   ]
  },
  {
   "cell_type": "code",
   "execution_count": 29,
   "metadata": {},
   "outputs": [
    {
     "name": "stdout",
     "output_type": "stream",
     "text": [
      "tensor([[14, 21, 25],\n",
      "        [12, 22, 26],\n",
      "        [24, 17, 23]]) torch.Size([3, 3])\n",
      "tensor([[2, 1, 1],\n",
      "        [1, 0, 2],\n",
      "        [0, 2, 1]]) torch.Size([3, 3])\n"
     ]
    }
   ],
   "source": [
    "k = 1\n",
    "\n",
    "values, indices = x.sort(dim=-1, descending=True)\n",
    "values, indices = values[:, :, :k], indices[:, :, :k]\n",
    "\n",
    "f(values.squeeze(-1))\n",
    "f(indices.squeeze(-1))"
   ]
  },
  {
   "cell_type": "markdown",
   "metadata": {},
   "source": [
    "## masked_fill: Fill the value if element of mask is True"
   ]
  },
  {
   "cell_type": "code",
   "execution_count": 36,
   "metadata": {},
   "outputs": [
    {
     "name": "stdout",
     "output_type": "stream",
     "text": [
      "tensor([[0., 1., 2.],\n",
      "        [3., 4., 5.],\n",
      "        [6., 7., 8.]]) torch.Size([3, 3])\n"
     ]
    }
   ],
   "source": [
    "x = torch.FloatTensor([i for i in range(3 ** 2)]).reshape(3, -1)\n",
    "\n",
    "f(x)"
   ]
  },
  {
   "cell_type": "code",
   "execution_count": 37,
   "metadata": {},
   "outputs": [
    {
     "name": "stdout",
     "output_type": "stream",
     "text": [
      "tensor([[False, False, False],\n",
      "        [False, False,  True],\n",
      "        [ True,  True,  True]]) torch.Size([3, 3])\n"
     ]
    }
   ],
   "source": [
    "mask = x > 4\n",
    "f(mask)"
   ]
  },
  {
   "cell_type": "code",
   "execution_count": 40,
   "metadata": {},
   "outputs": [
    {
     "name": "stdout",
     "output_type": "stream",
     "text": [
      "tensor([[   0.,    1.,    2.],\n",
      "        [   3.,    4., -999.],\n",
      "        [-999., -999., -999.]]) torch.Size([3, 3])\n"
     ]
    }
   ],
   "source": [
    "y = x.masked_fill(mask, value=-999)\n",
    "f(y)"
   ]
  },
  {
   "cell_type": "markdown",
   "metadata": {},
   "source": [
    "## Ones or Zeroes"
   ]
  },
  {
   "cell_type": "code",
   "execution_count": 42,
   "metadata": {},
   "outputs": [
    {
     "name": "stdout",
     "output_type": "stream",
     "text": [
      "tensor([[1., 1., 1.],\n",
      "        [1., 1., 1.]]) torch.Size([2, 3])\n",
      "tensor([[0., 0., 0.],\n",
      "        [0., 0., 0.]]) torch.Size([2, 3])\n"
     ]
    }
   ],
   "source": [
    "f(torch.ones(2, 3))\n",
    "f(torch.zeros(2, 3))"
   ]
  },
  {
   "cell_type": "code",
   "execution_count": 43,
   "metadata": {},
   "outputs": [
    {
     "name": "stdout",
     "output_type": "stream",
     "text": [
      "tensor([[1., 2., 3.],\n",
      "        [4., 5., 6.]]) torch.Size([2, 3])\n"
     ]
    }
   ],
   "source": [
    "x = torch.FloatTensor([\n",
    "    [1, 2, 3],\n",
    "    [4, 5, 6],\n",
    "])\n",
    "f(x)"
   ]
  },
  {
   "cell_type": "code",
   "execution_count": 44,
   "metadata": {},
   "outputs": [
    {
     "name": "stdout",
     "output_type": "stream",
     "text": [
      "tensor([[1., 1., 1.],\n",
      "        [1., 1., 1.]]) torch.Size([2, 3])\n",
      "tensor([[0., 0., 0.],\n",
      "        [0., 0., 0.]]) torch.Size([2, 3])\n"
     ]
    }
   ],
   "source": [
    "f(torch.ones_like(x))\n",
    "f(torch.zeros_like(x))"
   ]
  },
  {
   "cell_type": "code",
   "execution_count": null,
   "metadata": {},
   "outputs": [],
   "source": []
  }
 ],
 "metadata": {
  "kernelspec": {
   "display_name": "Python 3.9.13 ('main')",
   "language": "python",
   "name": "python3"
  },
  "language_info": {
   "codemirror_mode": {
    "name": "ipython",
    "version": 3
   },
   "file_extension": ".py",
   "mimetype": "text/x-python",
   "name": "python",
   "nbconvert_exporter": "python",
   "pygments_lexer": "ipython3",
   "version": "3.9.13"
  },
  "orig_nbformat": 4,
  "vscode": {
   "interpreter": {
    "hash": "c7fa6e65c4f227d77882d4bcc641a942485d93f6372413baaff8defdf53a058c"
   }
  }
 },
 "nbformat": 4,
 "nbformat_minor": 2
}
