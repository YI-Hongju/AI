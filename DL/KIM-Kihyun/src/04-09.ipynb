{
 "cells": [
  {
   "cell_type": "markdown",
   "metadata": {},
   "source": [
    "# Useful functions"
   ]
  },
  {
   "cell_type": "code",
   "execution_count": 2,
   "metadata": {},
   "outputs": [
    {
     "name": "stderr",
     "output_type": "stream",
     "text": [
      "/opt/homebrew/Caskroom/miniforge/base/envs/main/lib/python3.9/site-packages/tqdm/auto.py:22: TqdmWarning: IProgress not found. Please update jupyter and ipywidgets. See https://ipywidgets.readthedocs.io/en/stable/user_install.html\n",
      "  from .autonotebook import tqdm as notebook_tqdm\n"
     ]
    }
   ],
   "source": [
    "import torch"
   ]
  },
  {
   "cell_type": "markdown",
   "metadata": {},
   "source": [
    "## Expand"
   ]
  },
  {
   "cell_type": "code",
   "execution_count": 3,
   "metadata": {},
   "outputs": [
    {
     "name": "stdout",
     "output_type": "stream",
     "text": [
      "tensor([[[1., 2.]],\n",
      "\n",
      "        [[3., 4.]]]) torch.Size([2, 1, 2])\n"
     ]
    }
   ],
   "source": [
    "x = torch.FloatTensor([\n",
    "    [\n",
    "        [1, 2],\n",
    "    ],\n",
    "    [\n",
    "        [3, 4],\n",
    "    ],\n",
    "])\n",
    "\n",
    "f = lambda x: print(x, x.size())\n",
    "\n",
    "f(x)"
   ]
  },
  {
   "cell_type": "code",
   "execution_count": 4,
   "metadata": {},
   "outputs": [
    {
     "name": "stdout",
     "output_type": "stream",
     "text": [
      "tensor([[[1., 2.],\n",
      "         [1., 2.],\n",
      "         [1., 2.]],\n",
      "\n",
      "        [[3., 4.],\n",
      "         [3., 4.],\n",
      "         [3., 4.]]]) torch.Size([2, 3, 2])\n"
     ]
    }
   ],
   "source": [
    "y = x.expand(*[2, 3, 2])\n",
    "\n",
    "f(y)"
   ]
  },
  {
   "cell_type": "markdown",
   "metadata": {},
   "source": [
    "### Hard way"
   ]
  },
  {
   "cell_type": "code",
   "execution_count": 5,
   "metadata": {},
   "outputs": [
    {
     "name": "stdout",
     "output_type": "stream",
     "text": [
      "tensor([[[1., 2.],\n",
      "         [1., 2.],\n",
      "         [1., 2.]],\n",
      "\n",
      "        [[3., 4.],\n",
      "         [3., 4.],\n",
      "         [3., 4.]]]) torch.Size([2, 3, 2])\n"
     ]
    }
   ],
   "source": [
    "y = torch.cat([x, x, x], 1)\n",
    "\n",
    "f(y)"
   ]
  },
  {
   "cell_type": "markdown",
   "metadata": {},
   "source": [
    "## Random premutation"
   ]
  },
  {
   "cell_type": "code",
   "execution_count": 6,
   "metadata": {},
   "outputs": [
    {
     "name": "stdout",
     "output_type": "stream",
     "text": [
      "tensor([2, 4, 9, 6, 7, 5, 3, 0, 8, 1]) torch.Size([10])\n"
     ]
    }
   ],
   "source": [
    "x = torch.randperm(10)\n",
    "\n",
    "f(x)"
   ]
  },
  {
   "cell_type": "markdown",
   "metadata": {},
   "source": [
    "## Argument max"
   ]
  },
  {
   "cell_type": "code",
   "execution_count": 7,
   "metadata": {},
   "outputs": [
    {
     "name": "stdout",
     "output_type": "stream",
     "text": [
      "tensor([[[ 0, 15,  1],\n",
      "         [14, 22, 25],\n",
      "         [19,  7, 17]],\n",
      "\n",
      "        [[18, 10,  3],\n",
      "         [16, 23, 11],\n",
      "         [ 6,  8,  2]],\n",
      "\n",
      "        [[26,  5, 20],\n",
      "         [ 4,  9, 21],\n",
      "         [13, 24, 12]]]) torch.Size([3, 3, 3])\n"
     ]
    }
   ],
   "source": [
    "x = torch.randperm(3 ** 3).reshape(3, 3, -1)\n",
    "\n",
    "f(x)"
   ]
  },
  {
   "cell_type": "code",
   "execution_count": 8,
   "metadata": {},
   "outputs": [
    {
     "name": "stdout",
     "output_type": "stream",
     "text": [
      "tensor([[1, 2, 0],\n",
      "        [0, 1, 1],\n",
      "        [0, 2, 1]]) torch.Size([3, 3])\n"
     ]
    }
   ],
   "source": [
    "y = x.argmax(-1)\n",
    "\n",
    "f(y)"
   ]
  },
  {
   "cell_type": "markdown",
   "metadata": {},
   "source": [
    "## Top-k values and indices"
   ]
  },
  {
   "cell_type": "code",
   "execution_count": 9,
   "metadata": {},
   "outputs": [
    {
     "name": "stdout",
     "output_type": "stream",
     "text": [
      "tensor([[[15],\n",
      "         [25],\n",
      "         [19]],\n",
      "\n",
      "        [[18],\n",
      "         [23],\n",
      "         [ 8]],\n",
      "\n",
      "        [[26],\n",
      "         [21],\n",
      "         [24]]]) torch.Size([3, 3, 1])\n",
      "tensor([[[1],\n",
      "         [2],\n",
      "         [0]],\n",
      "\n",
      "        [[0],\n",
      "         [1],\n",
      "         [1]],\n",
      "\n",
      "        [[0],\n",
      "         [2],\n",
      "         [1]]]) torch.Size([3, 3, 1])\n"
     ]
    }
   ],
   "source": [
    "values, indices = torch.topk(x, 1, -1)\n",
    "\n",
    "f(values)\n",
    "f(indices)"
   ]
  },
  {
   "cell_type": "code",
   "execution_count": 10,
   "metadata": {},
   "outputs": [
    {
     "name": "stdout",
     "output_type": "stream",
     "text": [
      "tensor([[15, 25, 19],\n",
      "        [18, 23,  8],\n",
      "        [26, 21, 24]]) torch.Size([3, 3])\n",
      "tensor([[1, 2, 0],\n",
      "        [0, 1, 1],\n",
      "        [0, 2, 1]]) torch.Size([3, 3])\n"
     ]
    }
   ],
   "source": [
    "f(values.squeeze(-1))\n",
    "f(indices.squeeze(-1))"
   ]
  },
  {
   "cell_type": "code",
   "execution_count": 12,
   "metadata": {},
   "outputs": [
    {
     "name": "stdout",
     "output_type": "stream",
     "text": [
      "tensor([[[1, 2],\n",
      "         [2, 1],\n",
      "         [0, 2]],\n",
      "\n",
      "        [[0, 1],\n",
      "         [1, 0],\n",
      "         [1, 0]],\n",
      "\n",
      "        [[0, 2],\n",
      "         [2, 1],\n",
      "         [1, 0]]]) torch.Size([3, 3, 2])\n"
     ]
    }
   ],
   "source": [
    "_, indices = x.topk(k=2, dim=-1)\n",
    "\n",
    "f(indices)"
   ]
  },
  {
   "cell_type": "markdown",
   "metadata": {},
   "source": [
    "### Application"
   ]
  },
  {
   "cell_type": "code",
   "execution_count": 22,
   "metadata": {},
   "outputs": [
    {
     "name": "stdout",
     "output_type": "stream",
     "text": [
      "tensor([[[ 0, 15,  1],\n",
      "         [14, 22, 25],\n",
      "         [19,  7, 17]],\n",
      "\n",
      "        [[18, 10,  3],\n",
      "         [16, 23, 11],\n",
      "         [ 6,  8,  2]],\n",
      "\n",
      "        [[26,  5, 20],\n",
      "         [ 4,  9, 21],\n",
      "         [13, 24, 12]]]) torch.Size([3, 3, 3])\n"
     ]
    }
   ],
   "source": [
    "f(x)"
   ]
  },
  {
   "cell_type": "code",
   "execution_count": 29,
   "metadata": {},
   "outputs": [
    {
     "name": "stdout",
     "output_type": "stream",
     "text": [
      "tensor([[1, 2, 0],\n",
      "        [0, 1, 1],\n",
      "        [0, 2, 1]]) torch.Size([3, 3])\n"
     ]
    }
   ],
   "source": [
    "f(x.argmax(dim=-1))"
   ]
  },
  {
   "cell_type": "code",
   "execution_count": 40,
   "metadata": {},
   "outputs": [
    {
     "name": "stdout",
     "output_type": "stream",
     "text": [
      "tensor([[1, 2, 0],\n",
      "        [0, 1, 1],\n",
      "        [0, 2, 1]]) torch.Size([3, 3])\n"
     ]
    }
   ],
   "source": [
    "f(indices[:, :, 0]) # Demention reduction"
   ]
  },
  {
   "cell_type": "code",
   "execution_count": 35,
   "metadata": {},
   "outputs": [
    {
     "data": {
      "text/plain": [
       "tensor([[True, True, True],\n",
       "        [True, True, True],\n",
       "        [True, True, True]])"
      ]
     },
     "execution_count": 35,
     "metadata": {},
     "output_type": "execute_result"
    }
   ],
   "source": [
    "x.argmax(dim=-1) == indices[:, :, 0]"
   ]
  },
  {
   "cell_type": "markdown",
   "metadata": {},
   "source": [
    "#### Using topk"
   ]
  },
  {
   "cell_type": "code",
   "execution_count": 41,
   "metadata": {},
   "outputs": [
    {
     "data": {
      "text/plain": [
       "tensor([[1, 2, 0],\n",
       "        [0, 1, 1],\n",
       "        [0, 2, 1]])"
      ]
     },
     "execution_count": 41,
     "metadata": {},
     "output_type": "execute_result"
    }
   ],
   "source": [
    "x.argmax(dim=-1)"
   ]
  },
  {
   "cell_type": "code",
   "execution_count": 47,
   "metadata": {},
   "outputs": [
    {
     "name": "stdout",
     "output_type": "stream",
     "text": [
      "tensor([[[1],\n",
      "         [2],\n",
      "         [0]],\n",
      "\n",
      "        [[0],\n",
      "         [1],\n",
      "         [1]],\n",
      "\n",
      "        [[0],\n",
      "         [2],\n",
      "         [1]]]) torch.Size([3, 3, 1])\n"
     ]
    }
   ],
   "source": [
    "_, indices = x.topk(k=1, dim=-1)\n",
    "\n",
    "f(indices)"
   ]
  },
  {
   "cell_type": "code",
   "execution_count": 50,
   "metadata": {},
   "outputs": [
    {
     "data": {
      "text/plain": [
       "tensor([[True, True, True],\n",
       "        [True, True, True],\n",
       "        [True, True, True]])"
      ]
     },
     "execution_count": 50,
     "metadata": {},
     "output_type": "execute_result"
    }
   ],
   "source": [
    "x.argmax(dim=-1) == indices.squeeze(-1)"
   ]
  },
  {
   "cell_type": "markdown",
   "metadata": {},
   "source": [
    "## Sort by topk()"
   ]
  },
  {
   "cell_type": "code",
   "execution_count": 68,
   "metadata": {},
   "outputs": [
    {
     "name": "stdout",
     "output_type": "stream",
     "text": [
      "tensor([[[21, 15,  0],\n",
      "         [ 4,  5, 11],\n",
      "         [ 6, 17, 24]],\n",
      "\n",
      "        [[ 8, 26, 18],\n",
      "         [19,  3, 20],\n",
      "         [ 7, 22, 25]],\n",
      "\n",
      "        [[14,  2,  1],\n",
      "         [10, 13,  9],\n",
      "         [23, 12, 16]]]) torch.Size([3, 3, 3])\n"
     ]
    }
   ],
   "source": [
    "x = torch.randperm(3 ** 3).reshape(3, 3, -1)\n",
    "f(x)"
   ]
  },
  {
   "cell_type": "code",
   "execution_count": 72,
   "metadata": {},
   "outputs": [
    {
     "name": "stdout",
     "output_type": "stream",
     "text": [
      "tensor([[[21, 15,  0],\n",
      "         [11,  5,  4],\n",
      "         [24, 17,  6]],\n",
      "\n",
      "        [[26, 18,  8],\n",
      "         [20, 19,  3],\n",
      "         [25, 22,  7]],\n",
      "\n",
      "        [[14,  2,  1],\n",
      "         [13, 10,  9],\n",
      "         [23, 16, 12]]]) torch.Size([3, 3, 3])\n"
     ]
    }
   ],
   "source": [
    "target_dim = -1\n",
    "\n",
    "values, indices = x.topk(k=x.size(target_dim), largest=True)\n",
    "\n",
    "f(values)"
   ]
  },
  {
   "cell_type": "markdown",
   "metadata": {},
   "source": [
    "## Topk by sort()"
   ]
  },
  {
   "cell_type": "code",
   "execution_count": 74,
   "metadata": {},
   "outputs": [
    {
     "name": "stdout",
     "output_type": "stream",
     "text": [
      "tensor([[21, 11, 24],\n",
      "        [26, 20, 25],\n",
      "        [14, 13, 23]]) torch.Size([3, 3])\n",
      "tensor([[0, 2, 2],\n",
      "        [1, 2, 2],\n",
      "        [0, 1, 0]]) torch.Size([3, 3])\n"
     ]
    }
   ],
   "source": [
    "k = 1\n",
    "\n",
    "values, indices = x.sort(dim=-1, descending=True) # Descending\n",
    "values, indices = values[:, :, :k], indices[:, :, :k]\n",
    "\n",
    "f(values.squeeze(-1))\n",
    "f(indices.squeeze(-1))"
   ]
  },
  {
   "cell_type": "code",
   "execution_count": 79,
   "metadata": {},
   "outputs": [
    {
     "name": "stdout",
     "output_type": "stream",
     "text": [
      "tensor([[21, 19, 23],\n",
      "        [14, 10,  7],\n",
      "        [ 8,  4,  6]]) torch.Size([3, 3])\n",
      "tensor([[0, 1, 2],\n",
      "        [2, 2, 1],\n",
      "        [1, 0, 0]]) torch.Size([3, 3])\n"
     ]
    }
   ],
   "source": [
    "k = 1\n",
    "\n",
    "values, indices = x.sort(dim=0, descending=True) # Descending\n",
    "values, indices = values[:, :, :k], indices[:, :, :k]\n",
    "\n",
    "f(values.squeeze(-1))\n",
    "f(indices.squeeze(-1))"
   ]
  },
  {
   "cell_type": "code",
   "execution_count": null,
   "metadata": {},
   "outputs": [],
   "source": []
  }
 ],
 "metadata": {
  "kernelspec": {
   "display_name": "Python 3.9.13 ('main')",
   "language": "python",
   "name": "python3"
  },
  "language_info": {
   "codemirror_mode": {
    "name": "ipython",
    "version": 3
   },
   "file_extension": ".py",
   "mimetype": "text/x-python",
   "name": "python",
   "nbconvert_exporter": "python",
   "pygments_lexer": "ipython3",
   "version": "3.9.13"
  },
  "orig_nbformat": 4,
  "vscode": {
   "interpreter": {
    "hash": "c7fa6e65c4f227d77882d4bcc641a942485d93f6372413baaff8defdf53a058c"
   }
  }
 },
 "nbformat": 4,
 "nbformat_minor": 2
}
