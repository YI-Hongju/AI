{
 "cells": [
  {
   "cell_type": "code",
   "execution_count": 26,
   "metadata": {},
   "outputs": [],
   "source": [
    "import torch\n",
    "import torch.nn.functional as F"
   ]
  },
  {
   "cell_type": "code",
   "execution_count": 27,
   "metadata": {},
   "outputs": [
    {
     "name": "stdout",
     "output_type": "stream",
     "text": [
      "tensor([[0.1000, 0.2000, 0.3000],\n",
      "        [0.4000, 0.5000, 0.6000],\n",
      "        [0.7000, 0.8000, 0.9000]]) torch.Size([3, 3])\n"
     ]
    }
   ],
   "source": [
    "target = torch.FloatTensor([\n",
    "    [.1, .2, .3],\n",
    "    [.4, .5, .6],\n",
    "    [.7, .8, .9],\n",
    "])\n",
    "\n",
    "f = lambda x: print(x, x.size())\n",
    "\n",
    "f(target)"
   ]
  },
  {
   "cell_type": "code",
   "execution_count": 28,
   "metadata": {},
   "outputs": [
    {
     "name": "stdout",
     "output_type": "stream",
     "text": [
      "tensor([[0.8952, 0.0794, 0.0625],\n",
      "        [0.3844, 0.8278, 0.4688],\n",
      "        [0.5667, 0.7281, 0.9404]], requires_grad=True) torch.Size([3, 3])\n"
     ]
    }
   ],
   "source": [
    "x = torch.rand_like(target).requires_grad_(True)\n",
    "f(x)"
   ]
  },
  {
   "cell_type": "code",
   "execution_count": 29,
   "metadata": {},
   "outputs": [
    {
     "data": {
      "text/plain": [
       "tensor(0.0948, grad_fn=<MseLossBackward0>)"
      ]
     },
     "execution_count": 29,
     "metadata": {},
     "output_type": "execute_result"
    }
   ],
   "source": [
    "loss = F.mse_loss(x, target)\n",
    "loss"
   ]
  },
  {
   "cell_type": "code",
   "execution_count": 30,
   "metadata": {},
   "outputs": [
    {
     "name": "stdout",
     "output_type": "stream",
     "text": [
      "1-th Loss: 5.7321e-02\n",
      "tensor([[0.7185, 0.1062, 0.1153],\n",
      "        [0.3879, 0.7549, 0.4980],\n",
      "        [0.5963, 0.7441, 0.9315]], requires_grad=True)\n",
      "2-th Loss: 3.4676e-02\n",
      "tensor([[0.5811, 0.1270, 0.1563],\n",
      "        [0.3906, 0.6983, 0.5206],\n",
      "        [0.6194, 0.7565, 0.9245]], requires_grad=True)\n",
      "3-th Loss: 2.0977e-02\n",
      "tensor([[0.4742, 0.1433, 0.1883],\n",
      "        [0.3927, 0.6542, 0.5383],\n",
      "        [0.6373, 0.7662, 0.9190]], requires_grad=True)\n",
      "4-th Loss: 1.2690e-02\n",
      "tensor([[0.3910, 0.1559, 0.2131],\n",
      "        [0.3943, 0.6200, 0.5520],\n",
      "        [0.6512, 0.7737, 0.9148]], requires_grad=True)\n",
      "5-th Loss: 7.6764e-03\n",
      "tensor([[0.3263, 0.1657, 0.2324],\n",
      "        [0.3956, 0.5933, 0.5627],\n",
      "        [0.6621, 0.7795, 0.9115]], requires_grad=True)\n",
      "6-th Loss: 4.6438e-03\n",
      "tensor([[0.2760, 0.1733, 0.2474],\n",
      "        [0.3965, 0.5726, 0.5710],\n",
      "        [0.6705, 0.7841, 0.9090]], requires_grad=True)\n",
      "7-th Loss: 2.8092e-03\n",
      "tensor([[0.2369, 0.1792, 0.2591],\n",
      "        [0.3973, 0.5564, 0.5774],\n",
      "        [0.6770, 0.7876, 0.9070]], requires_grad=True)\n",
      "8-th Loss: 1.6994e-03\n",
      "tensor([[0.2065, 0.1838, 0.2682],\n",
      "        [0.3979, 0.5439, 0.5824],\n",
      "        [0.6821, 0.7904, 0.9054]], requires_grad=True)\n",
      "9-th Loss: 1.0280e-03\n",
      "tensor([[0.1828, 0.1874, 0.2753],\n",
      "        [0.3984, 0.5341, 0.5863],\n",
      "        [0.6861, 0.7925, 0.9042]], requires_grad=True)\n",
      "10-th Loss: 6.2189e-04\n",
      "tensor([[0.1644, 0.1902, 0.2808],\n",
      "        [0.3987, 0.5266, 0.5894],\n",
      "        [0.6892, 0.7942, 0.9033]], requires_grad=True)\n",
      "11-th Loss: 3.7621e-04\n",
      "tensor([[0.1501, 0.1924, 0.2850],\n",
      "        [0.3990, 0.5207, 0.5917],\n",
      "        [0.6916, 0.7955, 0.9025]], requires_grad=True)\n",
      "12-th Loss: 2.2758e-04\n",
      "tensor([[0.1390, 0.1941, 0.2884],\n",
      "        [0.3992, 0.5161, 0.5936],\n",
      "        [0.6935, 0.7965, 0.9020]], requires_grad=True)\n",
      "13-th Loss: 1.3767e-04\n",
      "tensor([[0.1303, 0.1954, 0.2909],\n",
      "        [0.3994, 0.5125, 0.5950],\n",
      "        [0.6949, 0.7973, 0.9015]], requires_grad=True)\n",
      "14-th Loss: 8.3283e-05\n",
      "tensor([[0.1236, 0.1964, 0.2930],\n",
      "        [0.3995, 0.5097, 0.5961],\n",
      "        [0.6960, 0.7979, 0.9012]], requires_grad=True)\n",
      "15-th Loss: 5.0381e-05\n",
      "tensor([[0.1183, 0.1972, 0.2945],\n",
      "        [0.3996, 0.5076, 0.5970],\n",
      "        [0.6969, 0.7983, 0.9009]], requires_grad=True)\n",
      "16-th Loss: 3.0478e-05\n",
      "tensor([[0.1143, 0.1978, 0.2957],\n",
      "        [0.3997, 0.5059, 0.5976],\n",
      "        [0.6976, 0.7987, 0.9007]], requires_grad=True)\n",
      "17-th Loss: 1.8437e-05\n",
      "tensor([[0.1111, 0.1983, 0.2967],\n",
      "        [0.3998, 0.5046, 0.5982],\n",
      "        [0.6981, 0.7990, 0.9006]], requires_grad=True)\n",
      "18-th Loss: 1.1153e-05\n",
      "tensor([[0.1086, 0.1987, 0.2974],\n",
      "        [0.3998, 0.5036, 0.5986],\n",
      "        [0.6986, 0.7992, 0.9004]], requires_grad=True)\n",
      "19-th Loss: 6.7470e-06\n",
      "tensor([[0.1067, 0.1990, 0.2980],\n",
      "        [0.3999, 0.5028, 0.5989],\n",
      "        [0.6989, 0.7994, 0.9003]], requires_grad=True)\n"
     ]
    }
   ],
   "source": [
    "threshold = 1e-5\n",
    "lr = 1\n",
    "iter_cnt = 0\n",
    "\n",
    "while loss > threshold:\n",
    "    iter_cnt += 1\n",
    "\n",
    "    loss.backward()\n",
    "\n",
    "    x = x - (lr * x.grad)\n",
    "\n",
    "    x.detach_()\n",
    "    x.requires_grad_(True)\n",
    "\n",
    "    loss = F.mse_loss(x, target)\n",
    "\n",
    "    print(f'{iter_cnt}-th Loss: %.4e' % loss)\n",
    "    print(x)"
   ]
  },
  {
   "cell_type": "code",
   "execution_count": null,
   "metadata": {},
   "outputs": [],
   "source": []
  }
 ],
 "metadata": {
  "kernelspec": {
   "display_name": "Python 3.9.13 ('main')",
   "language": "python",
   "name": "python3"
  },
  "language_info": {
   "codemirror_mode": {
    "name": "ipython",
    "version": 3
   },
   "file_extension": ".py",
   "mimetype": "text/x-python",
   "name": "python",
   "nbconvert_exporter": "python",
   "pygments_lexer": "ipython3",
   "version": "3.9.13"
  },
  "orig_nbformat": 4,
  "vscode": {
   "interpreter": {
    "hash": "c7fa6e65c4f227d77882d4bcc641a942485d93f6372413baaff8defdf53a058c"
   }
  }
 },
 "nbformat": 4,
 "nbformat_minor": 2
}
