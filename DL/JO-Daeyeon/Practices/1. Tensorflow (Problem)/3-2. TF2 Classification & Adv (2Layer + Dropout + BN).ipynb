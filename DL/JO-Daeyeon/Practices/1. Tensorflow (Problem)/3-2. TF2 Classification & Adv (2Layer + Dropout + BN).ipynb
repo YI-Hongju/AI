{
 "cells": [
  {
   "cell_type": "markdown",
   "metadata": {},
   "source": [
    "#### 참고 : tensorflow.keras 공식 문서 (Official API Docs) @ https://www.tensorflow.org/api_docs/python/tf/keras"
   ]
  },
  {
   "cell_type": "code",
   "execution_count": 1,
   "metadata": {},
   "outputs": [],
   "source": [
    "import tensorflow as tf\n",
    "from tensorflow.keras import datasets, utils\n",
    "from tensorflow.keras import models, layers, activations, initializers, losses, optimizers, metrics\n",
    "\n",
    "import os\n",
    "os.environ['TF_CPP_MIN_LOG_LEVEL'] = '2' # https://stackoverflow.com/questions/35911252/disable-tensorflow-debugging-information"
   ]
  },
  {
   "cell_type": "markdown",
   "metadata": {},
   "source": [
    "<br> \n",
    "\n",
    "#### 1. Prepare train & test data (MNIST)"
   ]
  },
  {
   "cell_type": "markdown",
   "metadata": {},
   "source": [
    "#### Train & Test split"
   ]
  },
  {
   "cell_type": "code",
   "execution_count": 13,
   "metadata": {},
   "outputs": [],
   "source": [
    "(train_data, train_label), (test_data, test_label) = datasets.mnist.load_data()"
   ]
  },
  {
   "cell_type": "markdown",
   "metadata": {},
   "source": [
    "#### Normalization"
   ]
  },
  {
   "cell_type": "code",
   "execution_count": 14,
   "metadata": {},
   "outputs": [],
   "source": [
    "train_data = train_data.reshape(60000, 784) / 255.0\n",
    "test_data = test_data.reshape(10000, 784) / 255.0"
   ]
  },
  {
   "cell_type": "markdown",
   "metadata": {},
   "source": [
    "#### One-hot encoding"
   ]
  },
  {
   "cell_type": "code",
   "execution_count": 15,
   "metadata": {},
   "outputs": [],
   "source": [
    "train_label = utils.to_categorical(train_label) # 0~9 -> one-hot vector\n",
    "test_label = utils.to_categorical(test_label) # 0~9 -> one-hot vector"
   ]
  },
  {
   "cell_type": "markdown",
   "metadata": {},
   "source": [
    "<br> \n",
    "\n",
    "#### 2. Build the model & Set the criterion"
   ]
  },
  {
   "cell_type": "code",
   "execution_count": 16,
   "metadata": {},
   "outputs": [],
   "source": [
    "model = models.Sequential() \n",
    "\n",
    "model.add(layers.Dense(input_dim=28*28, units=256, activation=None, kernel_initializer=initializers.he_uniform())) \n",
    "model.add(layers.BatchNormalization())\n",
    "model.add(layers.Activation('relu')) # layers.ELU or layers.LeakyReLU\n",
    "model.add(layers.Dropout(rate=0.2))\n",
    "\n",
    "model.add(layers.Dense(units=256, activation=None, kernel_initializer=initializers.he_uniform())) \n",
    "model.add(layers.BatchNormalization())\n",
    "model.add(layers.Activation('relu')) # layers.ELU or layers.LeakyReLU\n",
    "model.add(layers.Dropout(rate=0.2))\n",
    "\n",
    "model.add(layers.Dense(units=10, activation='softmax')) # 0~9 "
   ]
  },
  {
   "cell_type": "code",
   "execution_count": 17,
   "metadata": {},
   "outputs": [],
   "source": [
    "model.compile(\n",
    "    optimizer=optimizers.Adam(), \n",
    "    loss=losses.categorical_crossentropy, \n",
    "    metrics=[metrics.categorical_accuracy]\n",
    ") # Precision / Recall / F1-Score 적용하기 @ https://j.mp/3cf3lbi\n",
    "\n",
    "# model.compile(optimizer='adam', \n",
    "#               loss=losses.categorical_crossentropy, \n",
    "#               metrics=['accuracy'])"
   ]
  },
  {
   "cell_type": "markdown",
   "metadata": {},
   "source": [
    "<br> \n",
    "\n",
    "#### 3. Train the model"
   ]
  },
  {
   "cell_type": "code",
   "execution_count": 18,
   "metadata": {},
   "outputs": [
    {
     "name": "stdout",
     "output_type": "stream",
     "text": [
      "Epoch 1/15\n",
      "480/480 [==============================] - 7s 10ms/step - loss: 0.2937 - categorical_accuracy: 0.9125 - val_loss: 0.1286 - val_categorical_accuracy: 0.9600\n",
      "Epoch 2/15\n",
      "480/480 [==============================] - 5s 10ms/step - loss: 0.1253 - categorical_accuracy: 0.9621 - val_loss: 0.0894 - val_categorical_accuracy: 0.9743\n",
      "Epoch 3/15\n",
      "480/480 [==============================] - 5s 10ms/step - loss: 0.0905 - categorical_accuracy: 0.9722 - val_loss: 0.0859 - val_categorical_accuracy: 0.9737\n",
      "Epoch 4/15\n",
      "480/480 [==============================] - 5s 10ms/step - loss: 0.0726 - categorical_accuracy: 0.9770 - val_loss: 0.0781 - val_categorical_accuracy: 0.9765\n",
      "Epoch 5/15\n",
      "480/480 [==============================] - 5s 10ms/step - loss: 0.0607 - categorical_accuracy: 0.9809 - val_loss: 0.0788 - val_categorical_accuracy: 0.9768\n",
      "Epoch 6/15\n",
      "480/480 [==============================] - 5s 10ms/step - loss: 0.0512 - categorical_accuracy: 0.9832 - val_loss: 0.0744 - val_categorical_accuracy: 0.9772\n",
      "Epoch 7/15\n",
      "480/480 [==============================] - 5s 10ms/step - loss: 0.0441 - categorical_accuracy: 0.9852 - val_loss: 0.0836 - val_categorical_accuracy: 0.9767\n",
      "Epoch 8/15\n",
      "480/480 [==============================] - 5s 10ms/step - loss: 0.0403 - categorical_accuracy: 0.9866 - val_loss: 0.0691 - val_categorical_accuracy: 0.9802\n",
      "Epoch 9/15\n",
      "480/480 [==============================] - 5s 10ms/step - loss: 0.0346 - categorical_accuracy: 0.9887 - val_loss: 0.0753 - val_categorical_accuracy: 0.9793\n",
      "Epoch 10/15\n",
      "480/480 [==============================] - 5s 10ms/step - loss: 0.0311 - categorical_accuracy: 0.9898 - val_loss: 0.0776 - val_categorical_accuracy: 0.9779\n",
      "Epoch 11/15\n",
      "480/480 [==============================] - 5s 10ms/step - loss: 0.0283 - categorical_accuracy: 0.9908 - val_loss: 0.0788 - val_categorical_accuracy: 0.9795\n",
      "Epoch 12/15\n",
      "480/480 [==============================] - 5s 10ms/step - loss: 0.0288 - categorical_accuracy: 0.9902 - val_loss: 0.0690 - val_categorical_accuracy: 0.9811\n",
      "Epoch 13/15\n",
      "480/480 [==============================] - 5s 11ms/step - loss: 0.0253 - categorical_accuracy: 0.9912 - val_loss: 0.0790 - val_categorical_accuracy: 0.9798\n",
      "Epoch 14/15\n",
      "480/480 [==============================] - 5s 10ms/step - loss: 0.0236 - categorical_accuracy: 0.9916 - val_loss: 0.0769 - val_categorical_accuracy: 0.9806\n",
      "Epoch 15/15\n",
      "480/480 [==============================] - 5s 11ms/step - loss: 0.0209 - categorical_accuracy: 0.9928 - val_loss: 0.0809 - val_categorical_accuracy: 0.9807\n"
     ]
    }
   ],
   "source": [
    "# Training 과정에서 epoch마다 활용할 validation set을 나눠줄 수 있습니다.\n",
    "\n",
    "history = model.fit(train_data, train_label, batch_size=100, epochs=15, validation_split=0.2) "
   ]
  },
  {
   "cell_type": "markdown",
   "metadata": {},
   "source": [
    "<br> \n",
    "\n",
    "#### 4. Test the model"
   ]
  },
  {
   "cell_type": "code",
   "execution_count": 19,
   "metadata": {
    "scrolled": true
   },
   "outputs": [
    {
     "name": "stdout",
     "output_type": "stream",
     "text": [
      "100/100 [==============================] - 1s 5ms/step - loss: 0.0687 - categorical_accuracy: 0.9808\n",
      "loss (cross-entropy) : 0.068677619099617\n",
      "test accuracy : 0.9808000326156616\n"
     ]
    }
   ],
   "source": [
    "result = model.evaluate(test_data, test_label, batch_size=100)\n",
    "\n",
    "print('loss (cross-entropy) :', result[0])\n",
    "print('test accuracy :', result[1])"
   ]
  },
  {
   "cell_type": "code",
   "execution_count": 21,
   "metadata": {},
   "outputs": [
    {
     "data": {
      "text/plain": [
       "dict_keys(['loss', 'categorical_accuracy', 'val_loss', 'val_categorical_accuracy'])"
      ]
     },
     "execution_count": 21,
     "metadata": {},
     "output_type": "execute_result"
    }
   ],
   "source": [
    "history.history.keys()"
   ]
  },
  {
   "cell_type": "code",
   "execution_count": 22,
   "metadata": {},
   "outputs": [
    {
     "data": {
      "text/plain": [
       "[0.2936698794364929,\n",
       " 0.12533096969127655,\n",
       " 0.09052203595638275,\n",
       " 0.0725841224193573,\n",
       " 0.06070784851908684,\n",
       " 0.05124099180102348,\n",
       " 0.04410504549741745,\n",
       " 0.04026901349425316,\n",
       " 0.03458770737051964,\n",
       " 0.031059829518198967,\n",
       " 0.028341932222247124,\n",
       " 0.0288486760109663,\n",
       " 0.025251813232898712,\n",
       " 0.023563755676150322,\n",
       " 0.020850148051977158]"
      ]
     },
     "execution_count": 22,
     "metadata": {},
     "output_type": "execute_result"
    }
   ],
   "source": [
    "history.history['loss']"
   ]
  },
  {
   "cell_type": "markdown",
   "metadata": {},
   "source": [
    "<br> \n",
    "\n",
    "#### 5. Visualize the result"
   ]
  },
  {
   "cell_type": "code",
   "execution_count": 23,
   "metadata": {},
   "outputs": [
    {
     "data": {
      "text/plain": [
       "dict_keys(['loss', 'categorical_accuracy', 'val_loss', 'val_categorical_accuracy'])"
      ]
     },
     "execution_count": 23,
     "metadata": {},
     "output_type": "execute_result"
    }
   ],
   "source": [
    "history.history.keys()"
   ]
  },
  {
   "cell_type": "code",
   "execution_count": 25,
   "metadata": {},
   "outputs": [
    {
     "data": {
      "text/plain": [
       "15"
      ]
     },
     "execution_count": 25,
     "metadata": {},
     "output_type": "execute_result"
    }
   ],
   "source": [
    "len(history.history['loss'])"
   ]
  },
  {
   "cell_type": "code",
   "execution_count": 29,
   "metadata": {},
   "outputs": [
    {
     "data": {
      "text/plain": [
       "array([ 0,  1,  2,  3,  4,  5,  6,  7,  8,  9, 10, 11, 12, 13, 14])"
      ]
     },
     "execution_count": 29,
     "metadata": {},
     "output_type": "execute_result"
    }
   ],
   "source": [
    "import numpy as np\n",
    "\n",
    "x_len = np.arange(15) # array of range\n",
    "x_len"
   ]
  },
  {
   "cell_type": "code",
   "execution_count": 24,
   "metadata": {},
   "outputs": [
    {
     "data": {
      "image/png": "[encoded data removed]",
      "text/plain": [
       "<Figure size 432x288 with 1 Axes>"
      ]
     },
     "metadata": {
      "needs_background": "light"
     },
     "output_type": "display_data"
    }
   ],
   "source": [
    "val_acc = history.history['val_categorical_accuracy']\n",
    "acc = history.history['categorical_accuracy']\n",
    "\n",
    "import numpy as np\n",
    "import matplotlib.pyplot as plt\n",
    "\n",
    "x_len = np.arange(len(acc))\n",
    "plt.plot(x_len, acc, marker='.', c='blue', label=\"Train-set Acc.\")\n",
    "plt.plot(x_len, val_acc, marker='.', c='red', label=\"Validation-set Acc.\")\n",
    "\n",
    "plt.legend(loc='upper right')\n",
    "plt.grid()\n",
    "plt.xlabel('epoch')\n",
    "plt.ylabel('Accuracy')\n",
    "plt.show()"
   ]
  }
 ],
 "metadata": {
  "kernel_info": {
   "name": "python3"
  },
  "kernelspec": {
   "display_name": "Python 3 (ipykernel)",
   "language": "python",
   "name": "python3"
  },
  "language_info": {
   "codemirror_mode": {
    "name": "ipython",
    "version": 3
   },
   "file_extension": ".py",
   "mimetype": "text/x-python",
   "name": "python",
   "nbconvert_exporter": "python",
   "pygments_lexer": "ipython3",
   "version": "3.9.13"
  },
  "nteract": {
   "version": "0.15.0"
  }
 },
 "nbformat": 4,
 "nbformat_minor": 2
}
